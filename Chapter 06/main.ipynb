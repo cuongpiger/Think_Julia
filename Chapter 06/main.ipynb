{
 "cells": [
  {
   "cell_type": "markdown",
   "id": "3e682a44-8f0a-4e18-ad4e-a2be163369fd",
   "metadata": {},
   "source": [
    "# 1. Return Values\n",
    "* Ta dùng từ khóa `return` để báo hiệu cho việc hàm trả về một giá trị."
   ]
  },
  {
   "cell_type": "code",
   "execution_count": 1,
   "id": "41520651-0768-4f5c-ac76-5cc994dde38c",
   "metadata": {},
   "outputs": [
    {
     "data": {
      "text/plain": [
       "area (generic function with 1 method)"
      ]
     },
     "metadata": {},
     "output_type": "display_data"
    }
   ],
   "source": [
    "function area(radius)\n",
    "    return π * radius^2\n",
    "end"
   ]
  },
  {
   "cell_type": "code",
   "execution_count": 2,
   "id": "ac0faae4",
   "metadata": {},
   "outputs": [
    {
     "name": "stdout",
     "output_type": "stream",
     "text": [
      "78.53981633974483"
     ]
    }
   ],
   "source": [
    "a = area(5)\n",
    "print(a)"
   ]
  },
  {
   "cell_type": "markdown",
   "id": "3bc94c23",
   "metadata": {},
   "source": [
    "* Còn nếu ta không dùng từ khóa `return` thì Julia sẽ tự trả về kết quả của biểu thức cuối cùng như dưới đây."
   ]
  },
  {
   "cell_type": "code",
   "execution_count": 3,
   "id": "4800ad7c",
   "metadata": {},
   "outputs": [
    {
     "data": {
      "text/plain": [
       "area2 (generic function with 1 method)"
      ]
     },
     "metadata": {},
     "output_type": "display_data"
    }
   ],
   "source": [
    "function area2(radius)\n",
    "    π * radius^2\n",
    "end"
   ]
  },
  {
   "cell_type": "code",
   "execution_count": 4,
   "id": "609e1f11",
   "metadata": {},
   "outputs": [
    {
     "name": "stdout",
     "output_type": "stream",
     "text": [
      "78.53981633974483"
     ]
    }
   ],
   "source": [
    "a = area2(5)\n",
    "print(a)"
   ]
  },
  {
   "cell_type": "markdown",
   "id": "6ae1e736",
   "metadata": {},
   "source": [
    "# 2. Incremental Development"
   ]
  },
  {
   "cell_type": "code",
   "execution_count": 1,
   "id": "8f4b6d98",
   "metadata": {},
   "outputs": [
    {
     "data": {
      "text/plain": [
       "distance (generic function with 1 method)"
      ]
     },
     "metadata": {},
     "output_type": "display_data"
    }
   ],
   "source": [
    "function distance(x1, y1, x2, y2)\n",
    "    dx = x2 - x1\n",
    "    dy = y2 - y1\n",
    "    @show dx dy\n",
    "    0.0\n",
    "end"
   ]
  },
  {
   "cell_type": "code",
   "execution_count": 2,
   "id": "92fe2c23",
   "metadata": {},
   "outputs": [
    {
     "name": "stdout",
     "output_type": "stream",
     "text": [
      "dx = 3\n",
      "dy = 4\n"
     ]
    },
    {
     "data": {
      "text/plain": [
       "0.0"
      ]
     },
     "metadata": {},
     "output_type": "display_data"
    }
   ],
   "source": [
    "distance(1, 2, 4, 6)"
   ]
  },
  {
   "cell_type": "code",
   "execution_count": null,
   "id": "8cf83ca4",
   "metadata": {},
   "outputs": [],
   "source": []
  }
 ],
 "metadata": {
  "kernelspec": {
   "display_name": "Julia 1.5.3",
   "language": "julia",
   "name": "julia-1.5"
  },
  "language_info": {
   "file_extension": ".jl",
   "mimetype": "application/julia",
   "name": "julia",
   "version": "1.5.3"
  }
 },
 "nbformat": 4,
 "nbformat_minor": 5
}
