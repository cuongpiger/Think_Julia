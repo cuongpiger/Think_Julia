{
 "cells": [
  {
   "cell_type": "code",
   "execution_count": 1,
   "id": "3e682a44-8f0a-4e18-ad4e-a2be163369fd",
   "metadata": {},
   "outputs": [
    {
     "data": {
      "text/plain": [
       "1"
      ]
     },
     "execution_count": 1,
     "metadata": {},
     "output_type": "execute_result"
    }
   ],
   "source": [
    "firstindex(\"duong mạnh cuong\")"
   ]
  },
  {
   "cell_type": "code",
   "execution_count": null,
   "id": "41520651-0768-4f5c-ac76-5cc994dde38c",
   "metadata": {},
   "outputs": [],
   "source": []
  }
 ],
 "metadata": {
  "kernelspec": {
   "display_name": "Julia 1.5.3",
   "language": "julia",
   "name": "julia-1.5"
  },
  "language_info": {
   "file_extension": ".jl",
   "mimetype": "application/julia",
   "name": "julia",
   "version": "1.5.3"
  }
 },
 "nbformat": 4,
 "nbformat_minor": 5
}
