{
 "cells": [
  {
   "cell_type": "markdown",
   "metadata": {},
   "source": [
    "# 1. Turtles"
   ]
  },
  {
   "cell_type": "code",
   "execution_count": 1,
   "metadata": {},
   "outputs": [],
   "source": [
    "using ThinkJulia"
   ]
  },
  {
   "cell_type": "code",
   "execution_count": 4,
   "metadata": {},
   "outputs": [
    {
     "data": {
      "text/plain": [
       "Turtle(0.0, 0.0, true, 0.0, (0.0, 0.0, 0.0))"
      ]
     },
     "metadata": {},
     "output_type": "display_data"
    }
   ],
   "source": [
    "🐢 = Turtle()"
   ]
  },
  {
   "cell_type": "code",
   "execution_count": 12,
   "metadata": {},
   "outputs": [
    {
     "data": {
      "text/plain": [
       "\"luxor-drawing-233249_103.svg\""
      ]
     },
     "metadata": {},
     "output_type": "display_data"
    }
   ],
   "source": [
    "@svg begin\n",
    "    forward(🐢, 100)\n",
    "end"
   ]
  },
  {
   "cell_type": "markdown",
   "metadata": {},
   "source": [
    "![](./luxor-drawing-233249_103.svg)"
   ]
  },
  {
   "cell_type": "code",
   "execution_count": 13,
   "metadata": {},
   "outputs": [
    {
     "data": {
      "text/plain": [
       "\"luxor-drawing-233331_306.svg\""
      ]
     },
     "metadata": {},
     "output_type": "display_data"
    }
   ],
   "source": [
    "🐢 = Turtle()\n",
    "@svg begin\n",
    "    forward(🐢, 100)\n",
    "    turn(🐢, -90)\n",
    "    forward(🐢, 100)\n",
    "end"
   ]
  },
  {
   "cell_type": "markdown",
   "metadata": {},
   "source": [
    "![](luxor-drawing-233331_306.svg)"
   ]
  },
  {
   "cell_type": "markdown",
   "metadata": {},
   "source": [
    "# 2. Simple Repetition"
   ]
  },
  {
   "cell_type": "code",
   "execution_count": 14,
   "metadata": {},
   "outputs": [
    {
     "data": {
      "text/plain": [
       "\"luxor-drawing-233421_771.svg\""
      ]
     },
     "metadata": {},
     "output_type": "display_data"
    }
   ],
   "source": [
    "@svg begin\n",
    "    forward(🐢, 100)\n",
    "    turn(🐢, -90)\n",
    "    forward(🐢, 100)\n",
    "    turn(🐢, -90)\n",
    "    forward(🐢, 100)\n",
    "    turn(🐢, -90)\n",
    "    forward(🐢, 100)\n",
    "end"
   ]
  },
  {
   "cell_type": "markdown",
   "metadata": {},
   "source": [
    "![](luxor-drawing-233421_771.svg)"
   ]
  },
  {
   "cell_type": "code",
   "execution_count": 15,
   "metadata": {},
   "outputs": [
    {
     "data": {
      "text/plain": [
       "\"luxor-drawing-233452_691.svg\""
      ]
     },
     "metadata": {},
     "output_type": "display_data"
    }
   ],
   "source": [
    "@svg begin\n",
    "    for i in 1:4\n",
    "        forward(🐢, 100)\n",
    "        turn(🐢, -90)\n",
    "    end\n",
    "end"
   ]
  },
  {
   "cell_type": "markdown",
   "metadata": {},
   "source": [
    "![](luxor-drawing-233452_691.svg)"
   ]
  },
  {
   "cell_type": "markdown",
   "metadata": {},
   "source": [
    "# 4. Encapsulation"
   ]
  },
  {
   "cell_type": "code",
   "execution_count": 20,
   "metadata": {},
   "outputs": [
    {
     "data": {
      "text/plain": [
       "\"luxor-drawing-233904_379.svg\""
      ]
     },
     "metadata": {},
     "output_type": "display_data"
    }
   ],
   "source": [
    "function square(t)\n",
    "    for i in 1:4\n",
    "        forward(t, 100)\n",
    "        turn(t, -90)\n",
    "    end\n",
    "end\n",
    "\n",
    "🐢 = Turtle()\n",
    "@svg begin\n",
    "    square(🐢)\n",
    "end"
   ]
  },
  {
   "cell_type": "markdown",
   "metadata": {},
   "source": [
    "![](luxor-drawing-233904_379.svg)"
   ]
  },
  {
   "cell_type": "code",
   "execution_count": 21,
   "metadata": {},
   "outputs": [
    {
     "data": {
      "text/plain": [
       "\"luxor-drawing-233937_54.svg\""
      ]
     },
     "metadata": {},
     "output_type": "display_data"
    }
   ],
   "source": [
    "🐫 = Turtle()\n",
    "@svg begin\n",
    "    square(🐫)\n",
    "end"
   ]
  },
  {
   "cell_type": "markdown",
   "metadata": {},
   "source": [
    "![](luxor-drawing-233937_54.svg)"
   ]
  },
  {
   "cell_type": "markdown",
   "metadata": {},
   "source": [
    "# 5. Generalization"
   ]
  },
  {
   "cell_type": "code",
   "execution_count": 22,
   "metadata": {},
   "outputs": [
    {
     "data": {
      "text/plain": [
       "\"luxor-drawing-234034_212.svg\""
      ]
     },
     "metadata": {},
     "output_type": "display_data"
    }
   ],
   "source": [
    "function square(t, len)\n",
    "    for i in 1:4\n",
    "        forward(t, len)\n",
    "        turn(t, -90)\n",
    "    end\n",
    "end\n",
    "\n",
    "🐢 = Turtle()\n",
    "@svg begin\n",
    "    square(🐢, 100)\n",
    "end"
   ]
  },
  {
   "cell_type": "markdown",
   "metadata": {},
   "source": [
    "![](luxor-drawing-234034_212.svg)"
   ]
  },
  {
   "cell_type": "code",
   "execution_count": 23,
   "metadata": {},
   "outputs": [
    {
     "data": {
      "text/plain": [
       "\"luxor-drawing-234117_461.svg\""
      ]
     },
     "metadata": {},
     "output_type": "display_data"
    }
   ],
   "source": [
    "function polygon(t, n, len)\n",
    "    angle = 360 / n\n",
    "    for i in 1:n\n",
    "        forward(t, len)\n",
    "        turn(t, -angle)\n",
    "    end\n",
    "end\n",
    "\n",
    "🐢 = Turtle()\n",
    "@svg begin\n",
    "    polygon(🐢, 7, 70)\n",
    "end"
   ]
  },
  {
   "cell_type": "markdown",
   "metadata": {},
   "source": [
    "![](luxor-drawing-234117_461.svg)"
   ]
  },
  {
   "cell_type": "markdown",
   "metadata": {},
   "source": [
    "# 6. Interface Design"
   ]
  },
  {
   "cell_type": "code",
   "execution_count": 24,
   "metadata": {},
   "outputs": [
    {
     "data": {
      "text/plain": [
       "circle (generic function with 1 method)"
      ]
     },
     "metadata": {},
     "output_type": "display_data"
    }
   ],
   "source": [
    "function circle(t, r)\n",
    "    circumference = 2 * π * r\n",
    "    n = 50\n",
    "    len = circumference / n\n",
    "    polygon(t, n, len)\n",
    "end"
   ]
  },
  {
   "cell_type": "code",
   "execution_count": 25,
   "metadata": {},
   "outputs": [
    {
     "data": {
      "text/plain": [
       "\"luxor-drawing-234307_695.svg\""
      ]
     },
     "metadata": {},
     "output_type": "display_data"
    }
   ],
   "source": [
    "🐢 = Turtle()\n",
    "@svg begin\n",
    "    circle(🐢, 70)\n",
    "end"
   ]
  },
  {
   "cell_type": "markdown",
   "metadata": {},
   "source": [
    "![](luxor-drawing-234307_695.svg)"
   ]
  },
  {
   "cell_type": "code",
   "execution_count": 26,
   "metadata": {},
   "outputs": [
    {
     "data": {
      "text/plain": [
       "circle (generic function with 1 method)"
      ]
     },
     "metadata": {},
     "output_type": "display_data"
    }
   ],
   "source": [
    "function circle(t, r)\n",
    "    circumference = 2 * π * r\n",
    "    n = trunc(circumference / 3) + 3\n",
    "    len = circumference / n\n",
    "    polygon(t, n, len)\n",
    "end"
   ]
  },
  {
   "cell_type": "code",
   "execution_count": 27,
   "metadata": {},
   "outputs": [
    {
     "data": {
      "text/plain": [
       "\"luxor-drawing-234411_805.svg\""
      ]
     },
     "metadata": {},
     "output_type": "display_data"
    }
   ],
   "source": [
    "🐢 = Turtle()\n",
    "@svg begin\n",
    "    circle(🐢, 70)\n",
    "end"
   ]
  },
  {
   "cell_type": "markdown",
   "metadata": {},
   "source": [
    "![](luxor-drawing-234411_805.svg)"
   ]
  },
  {
   "cell_type": "markdown",
   "metadata": {},
   "source": [
    "# 7. Refactoring"
   ]
  },
  {
   "cell_type": "code",
   "execution_count": 30,
   "metadata": {},
   "outputs": [
    {
     "data": {
      "text/plain": [
       "\"luxor-drawing-234710_543.svg\""
      ]
     },
     "metadata": {},
     "output_type": "display_data"
    }
   ],
   "source": [
    "function arc(t, r, angle)\n",
    "    arc_len = 2 * π * r * angle / 360\n",
    "    n = trunc(arc_len / 3) + 1\n",
    "    step_len = arc_len / n\n",
    "    step_angle = angle / n\n",
    "    for i in 1:n\n",
    "        forward(t, step_len)\n",
    "        turn(t, -step_angle)\n",
    "    end\n",
    "end\n",
    "\n",
    "🐢 = Turtle()\n",
    "@svg begin\n",
    "    arc(🐢, 70, 180)\n",
    "end"
   ]
  },
  {
   "cell_type": "markdown",
   "metadata": {},
   "source": [
    "![](luxor-drawing-234710_543.svg)"
   ]
  },
  {
   "cell_type": "markdown",
   "metadata": {},
   "source": []
  }
 ],
 "metadata": {
  "kernelspec": {
   "display_name": "Julia 1.5.3",
   "language": "julia",
   "name": "julia-1.5"
  },
  "language_info": {
   "file_extension": ".jl",
   "mimetype": "application/julia",
   "name": "julia",
   "version": "1.5.3"
  },
  "orig_nbformat": 4
 },
 "nbformat": 4,
 "nbformat_minor": 2
}
