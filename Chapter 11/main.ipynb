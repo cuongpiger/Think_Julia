{
 "cells": [
  {
   "cell_type": "markdown",
   "metadata": {},
   "source": [
    "# 1. A Dictionary is a Mapping"
   ]
  },
  {
   "cell_type": "code",
   "execution_count": 7,
   "metadata": {},
   "outputs": [
    {
     "name": "stdout",
     "output_type": "stream",
     "text": [
      "Dict{Any,Any}()\n",
      "Dict{Any,Any}(\"one\" => \"uno\")\n",
      "Dict(\"two\" => \"dos\",\"one\" => \"uno\",\"three\" => \"tres\")\n",
      "uno\n",
      "3\n",
      "[\"two\", \"one\", \"three\"]\n"
     ]
    },
    {
     "name": "stdout",
     "output_type": "stream",
     "text": [
      "[\"dos\", \"uno\", \"tres\"]\n"
     ]
    }
   ],
   "source": [
    "eng2sp = Dict()\n",
    "println(eng2sp)\n",
    "\n",
    "eng2sp[\"one\"] = \"uno\"\n",
    "println(eng2sp)\n",
    "\n",
    "eng2sp = Dict(\"one\" => \"uno\", \"two\" => \"dos\", \"three\" => \"tres\")\n",
    "println(eng2sp)\n",
    "println(eng2sp[\"one\"])\n",
    "\n",
    "println(length(eng2sp))\n",
    "\n",
    "ks = keys(eng2sp)\n",
    "println(ks)\n",
    "\n",
    "vs = values(eng2sp)\n",
    "println(vs)"
   ]
  },
  {
   "cell_type": "markdown",
   "metadata": {},
   "source": [
    "# 2. Dictionary as a Collection of Counters"
   ]
  },
  {
   "cell_type": "code",
   "execution_count": 14,
   "metadata": {},
   "outputs": [
    {
     "name": "stdout",
     "output_type": "stream",
     "text": [
      "Dict{Any,Any}("
     ]
    },
    {
     "name": "stdout",
     "output_type": "stream",
     "text": [
      "'n' => 1,'s' => 2,'a' => 1,'r' => 2,'t' => 1,'o' => 2,'u' => 2,'b' => 1)\n"
     ]
    }
   ],
   "source": [
    "function histogram(s)\n",
    "    d = Dict()\n",
    "    for c in s\n",
    "        if c ∉ keys(d)\n",
    "            d[c] = 1\n",
    "        else\n",
    "            d[c] = d[c] + 1\n",
    "        end\n",
    "    end\n",
    "\n",
    "    d\n",
    "end\n",
    "\n",
    "h = histogram(\"brontosaurus\")\n",
    "println(h)"
   ]
  },
  {
   "cell_type": "code",
   "execution_count": 16,
   "metadata": {},
   "outputs": [
    {
     "name": "stdout",
     "output_type": "stream",
     "text": [
      "Dict{Any,Any}('a' => 1)\n",
      "1\n",
      "0\n"
     ]
    }
   ],
   "source": [
    "h = histogram(\"a\")\n",
    "println(h)\n",
    "\n",
    "println(get(h, 'a', 0))\n",
    "println(get(h, 'b', 0))"
   ]
  },
  {
   "cell_type": "markdown",
   "metadata": {},
   "source": [
    "# 3. Looping and Dictionaries"
   ]
  },
  {
   "cell_type": "code",
   "execution_count": 19,
   "metadata": {},
   "outputs": [
    {
     "name": "stdout",
     "output_type": "stream",
     "text": [
      "a 1\n",
      "o 1\n",
      "p 1\n",
      "r 2\n",
      "t 1\n"
     ]
    }
   ],
   "source": [
    "h = histogram(\"parrot\")\n",
    "for c in sort(collect(keys(h)))\n",
    "    println(c,\" \", h[c])\n",
    "end"
   ]
  },
  {
   "cell_type": "markdown",
   "metadata": {},
   "source": [
    "# 7. Global Variables"
   ]
  },
  {
   "cell_type": "code",
   "execution_count": 21,
   "metadata": {},
   "outputs": [
    {
     "data": {
      "text/plain": [
       "example (generic function with 2 methods)"
      ]
     },
     "metadata": {},
     "output_type": "display_data"
    }
   ],
   "source": [
    "verbose = true\n",
    "\n",
    "function example()\n",
    "    if verbose\n",
    "        println(\"Running example\")\n",
    "    end\n",
    "end"
   ]
  },
  {
   "cell_type": "code",
   "execution_count": 22,
   "metadata": {},
   "outputs": [
    {
     "name": "stdout",
     "output_type": "stream",
     "text": [
      "Running example\n"
     ]
    }
   ],
   "source": [
    "example()"
   ]
  },
  {
   "cell_type": "code",
   "execution_count": 23,
   "metadata": {},
   "outputs": [
    {
     "data": {
      "text/plain": [
       "example2 (generic function with 1 method)"
      ]
     },
     "metadata": {},
     "output_type": "display_data"
    }
   ],
   "source": [
    "been_called = false\n",
    "function example2()\n",
    "    been_called = true\n",
    "end"
   ]
  },
  {
   "cell_type": "code",
   "execution_count": 24,
   "metadata": {},
   "outputs": [
    {
     "name": "stdout",
     "output_type": "stream",
     "text": [
      "false\n",
      "false\n"
     ]
    }
   ],
   "source": [
    "println(been_called)\n",
    "example2()\n",
    "println(been_called)"
   ]
  },
  {
   "cell_type": "code",
   "execution_count": 25,
   "metadata": {},
   "outputs": [
    {
     "data": {
      "text/plain": [
       "example3 (generic function with 1 method)"
      ]
     },
     "metadata": {},
     "output_type": "display_data"
    }
   ],
   "source": [
    "function  example3()\n",
    "    global been_called\n",
    "    been_called = true\n",
    "end"
   ]
  },
  {
   "cell_type": "code",
   "execution_count": 26,
   "metadata": {},
   "outputs": [
    {
     "name": "stdout",
     "output_type": "stream",
     "text": [
      "false\n",
      "true\n"
     ]
    }
   ],
   "source": [
    "println(been_called)\n",
    "example3()\n",
    "println(been_called)"
   ]
  },
  {
   "cell_type": "code",
   "execution_count": 27,
   "metadata": {},
   "outputs": [
    {
     "data": {
      "text/plain": [
       "example4 (generic function with 1 method)"
      ]
     },
     "metadata": {},
     "output_type": "display_data"
    }
   ],
   "source": [
    "know = Dict(0 => 0, 1 => 1)\n",
    "function example4()\n",
    "    know[2] = 2\n",
    "end"
   ]
  },
  {
   "cell_type": "code",
   "execution_count": 28,
   "metadata": {},
   "outputs": [
    {
     "name": "stdout",
     "output_type": "stream",
     "text": [
      "Dict(0 => 0,1 => 1)\n",
      "Dict(0 => 0,2 => 2,1 => 1)\n"
     ]
    }
   ],
   "source": [
    "println(know)\n",
    "example4()\n",
    "println(know)"
   ]
  },
  {
   "cell_type": "code",
   "execution_count": null,
   "metadata": {},
   "outputs": [],
   "source": []
  }
 ],
 "metadata": {
  "kernelspec": {
   "display_name": "Julia 1.5.3",
   "language": "julia",
   "name": "julia-1.5"
  },
  "language_info": {
   "file_extension": ".jl",
   "mimetype": "application/julia",
   "name": "julia",
   "version": "1.5.3"
  },
  "orig_nbformat": 4
 },
 "nbformat": 4,
 "nbformat_minor": 2
}
